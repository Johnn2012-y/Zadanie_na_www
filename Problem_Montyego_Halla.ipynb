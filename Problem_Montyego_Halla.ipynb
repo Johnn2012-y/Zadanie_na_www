{
  "nbformat": 4,
  "nbformat_minor": 0,
  "metadata": {
    "colab": {
      "provenance": []
    },
    "kernelspec": {
      "name": "python3",
      "display_name": "Python 3"
    },
    "language_info": {
      "name": "python"
    }
  },
  "cells": [
    {
      "cell_type": "markdown",
      "source": [],
      "metadata": {
        "id": "ytqvVBCqPWRk"
      }
    },
    {
      "cell_type": "markdown",
      "source": [
        "#Problem Monty’ego Halla\n",
        "\n",
        "Problem Monty’ego Halla to klasyczny problem z teorii prawdopodobieństwa. Gracz staje przed trzema drzwiami. Za jednymi z nich znajduje się nagroda, a za pozostałymi nic. Aby wygrać, musi wybrać właściwe drzwi.\n",
        "\n",
        "Po dokonaniu wyboru przez gracza, prowadzący otwiera jedne z dwóch pozostałych drzwi, zawsze wskazując drzwi bez nagrody. Następnie gracz ma możliwość zmiany swojego pierwotnego wyboru na drugie, jeszcze nieotwarte drzwi.\n",
        "\n",
        "Intuicyjnie może się wydawać, że obie strategie mają równe szanse, ale w rzeczywistości:\n",
        "- pozostanie przy wyborze wygrywa ~1/3 razy,\n",
        "- zmiana wyboru wygrywa ~2/3 razy.\n",
        "\n",
        "Cel notatnika:\n",
        "- Przeprowadzić dużą liczbę symulacji (np. 10 000),\n",
        "- Porównać empiryczne prawdopodobieństwa wygranej dla obu strategii,\n",
        "- Zobaczyć, że warto zmieniać drzwi.\n",
        "\n",
        "---\n"
      ],
      "metadata": {
        "id": "TnjCkA4HPLIp"
      }
    },
    {
      "cell_type": "code",
      "source": [
        "import numpy as np\n",
        "import matplotlib.pyplot as plt\n",
        "\n",
        "# Liczba symulacji\n",
        "n_simulations = 10000"
      ],
      "metadata": {
        "id": "wpt8pML-RPTF"
      },
      "execution_count": 15,
      "outputs": []
    },
    {
      "cell_type": "code",
      "source": [
        "#symulacja pojedynczej gry\n",
        "def monty_hall_game(change_choice=True):\n",
        "    doors = [0, 1, 2]\n",
        "    prize_door = np.random.choice(doors)\n",
        "    player_choice = np.random.choice(doors)\n",
        "\n",
        "    # wybieramy ktore drzwi wylaczymy z gry\n",
        "    remaining_doors = [door for door in doors if door != player_choice and door != prize_door]\n",
        "    monty_opens = np.random.choice(remaining_doors)\n",
        "\n",
        "    # Gracz może zmienić wybór na pozostałe drzwi\n",
        "    if change_choice:\n",
        "        final_choice = [door for door in doors if door != player_choice and door != monty_opens][0]\n",
        "    else:\n",
        "        final_choice = player_choice\n",
        "\n",
        "    return final_choice == prize_door\n"
      ],
      "metadata": {
        "id": "YnXtU_35Str1"
      },
      "execution_count": 16,
      "outputs": []
    },
    {
      "cell_type": "code",
      "source": [
        "#symulowanie wielu gier\n",
        "def simulate_games(n, change_choice):\n",
        "    wins = 0\n",
        "    for _ in range(n):\n",
        "        if monty_hall_game(change_choice):\n",
        "            wins += 1\n",
        "    return wins / n  # empiryczne prawdopodobieństwo wygranej\n"
      ],
      "metadata": {
        "id": "RlpC_fx5b9Ix"
      },
      "execution_count": 17,
      "outputs": []
    },
    {
      "cell_type": "code",
      "source": [
        "#symulujemy i porównujemy dwie strategie\n",
        "\n",
        "stay_win_rate = simulate_games(n_simulations, change_choice=False)\n",
        "switch_win_rate = simulate_games(n_simulations, change_choice=True)\n",
        "\n",
        "print(f\"Prawdopodobieństwo wygranej przy pozostaniu przy wyborze: {stay_win_rate:.4f}\")\n",
        "print(f\"Prawdopodobieństwo wygranej przy zmianie drzwi: {switch_win_rate:.4f}\")\n"
      ],
      "metadata": {
        "colab": {
          "base_uri": "https://localhost:8080/"
        },
        "id": "cx78JnQtcFco",
        "outputId": "80793615-b8df-44ef-ef87-9530464bb5f4"
      },
      "execution_count": 18,
      "outputs": [
        {
          "output_type": "stream",
          "name": "stdout",
          "text": [
            "Prawdopodobieństwo wygranej przy pozostaniu przy wyborze: 0.3345\n",
            "Prawdopodobieństwo wygranej przy zmianie drzwi: 0.6770\n"
          ]
        }
      ]
    },
    {
      "cell_type": "code",
      "source": [
        "#porównanie wyników w formie wykresu słupkowego\n",
        "\n",
        "strategies = ['Pozostanie', 'Zmiana']\n",
        "probabilities = [stay_win_rate, switch_win_rate]\n",
        "\n",
        "plt.bar(strategies, probabilities, color=['red', 'green'])\n",
        "plt.ylim(0, 1)\n",
        "plt.title('Problem Monty’ego Halla – porównanie strategii')\n",
        "plt.ylabel('Prawdopodobieństwo wygranej')\n",
        "plt.text(0, probabilities[0] + 0.02, f'{probabilities[0]:.4f}', ha='center')\n",
        "plt.text(1, probabilities[1] + 0.02, f'{probabilities[1]:.4f}', ha='center')\n",
        "plt.show()"
      ],
      "metadata": {
        "colab": {
          "base_uri": "https://localhost:8080/",
          "height": 453
        },
        "id": "urGNNXEqcOYm",
        "outputId": "600e16dc-0aa7-4f08-f6a6-bbe2c1c50377"
      },
      "execution_count": 19,
      "outputs": [
        {
          "output_type": "display_data",
          "data": {
            "text/plain": [
              "<Figure size 640x480 with 1 Axes>"
            ],
            "image/png": "[encoded data removed]"
          },
          "metadata": {}
        }
      ]
    },
    {
      "cell_type": "markdown",
      "source": [],
      "metadata": {
        "id": "9iadJuKaSmHs"
      }
    }
  ]
}